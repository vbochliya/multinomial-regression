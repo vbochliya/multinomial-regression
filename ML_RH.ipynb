{
 "cells": [
  {
   "cell_type": "code",
   "execution_count": 4,
   "id": "96370ed0-5cd6-4732-a144-aebfc27005ea",
   "metadata": {},
   "outputs": [],
   "source": [
    "import pandas as pd\n",
    "import numpy as np\n",
    "from sklearn.model_selection import train_test_split\n",
    "\n",
    "data=pd.read_csv('Train_Data_Final.csv')\n",
    "eval_data=pd.read_csv('Test_Data.csv')\n",
    "eval_data.pop('Unnamed: 0')\n",
    "data.pop('id')\n",
    "eval_data.pop('id')\n",
    "\n",
    "data['Date'] = pd.to_datetime(data['Date'])\n",
    "data['year'] = data['Date'].dt.year\n",
    "data['month'] = data['Date'].dt.month\n",
    "eval_data['Date'] = pd.to_datetime(eval_data['Date'])\n",
    "eval_data['year'] = eval_data['Date'].dt.year\n",
    "eval_data['month'] = eval_data['Date'].dt.month\n",
    "\n",
    "data['Time'] = pd.to_datetime(data['Time'])\n",
    "data['hour'] = data['Time'].dt.strftime('%H')\n",
    "eval_data['Time'] = pd.to_datetime(eval_data['Time'])\n",
    "eval_data['hour'] = eval_data['Time'].dt.strftime('%H')\n",
    "\n",
    "data.pop('Date')\n",
    "data.pop('Time')\n",
    "data.pop('year')\n",
    "eval_data.pop('Date')\n",
    "eval_data.pop('Time')\n",
    "eval_data.pop('year')\n",
    "\n",
    "\n",
    "\n",
    "# Use list comprehension to replace values in the original list\n",
    "mapping = {'Dry':0, 'Ideal':1, 'Slightly Elevated':2,'Elevated':3, 'High':4}\n",
    "transformed_list = [mapping[val] if val in mapping else val for val in data['RH_type']]\n",
    "data['RH_type']=transformed_list.copy()\n",
    "\n",
    "\n",
    "y=data.pop('RH_type')\n",
    "x=data\n",
    "x_eval=eval_data\n",
    "\n",
    "\n",
    "x_train, x_test, y_train, y_test = train_test_split(x, y, test_size=0.2, random_state=42)\n"
   ]
  },
  {
   "cell_type": "code",
   "execution_count": 5,
   "id": "71e776d5-d671-4986-b8bb-defa2a74bd48",
   "metadata": {},
   "outputs": [
    {
     "name": "stderr",
     "output_type": "stream",
     "text": [
      "/home/mypc/.local/lib/python3.11/site-packages/sklearn/utils/optimize.py:246: ConvergenceWarning: newton-cg failed to converge. Increase the number of iterations.\n",
      "  warnings.warn(\n"
     ]
    }
   ],
   "source": [
    "from sklearn.linear_model import LogisticRegression\n",
    "\n",
    "\n",
    "model = LogisticRegression(solver='newton-cg', multi_class='multinomial', random_state=0)\n",
    "H = model.fit(x_train, y_train)\n",
    "\n",
    "#print('Logistic Regression Model Coeff (m) =\\n' , model.coef_)\n",
    "#print('\\nLogistic Regression Model inteceps (b) =\\n' , model.intercept_)\n",
    "\n",
    "\n",
    "# Predicting the data\n",
    "y_predict=model.predict(x_test)\n",
    "y_predict_pro=model.predict_proba(x_test)\n",
    "# Predicting of testing data that is final csv submition\n",
    "y_predict_newdata=model.predict(x_eval)\n",
    "\n",
    "# Evaluate the Model\n",
    "# print(\"\\nPrediction Probability : \\n\",y_predict_pro)\n",
    "#print(\"\\nPrediction : \\n\",y_predict)\n"
   ]
  },
  {
   "cell_type": "code",
   "execution_count": null,
   "id": "fa46929c-dfe7-4d47-a7d1-4aa5ed0fb6a9",
   "metadata": {},
   "outputs": [],
   "source": [
    "\n",
    "mapping = {0:'Dry',1: 'Ideal',2: 'Slightly Elevated',3:'Elevated',4: 'High'}\n",
    "transformed_list1 = [mapping[val] if val in mapping else val for val in y_predict_newdata]\n",
    "\n",
    "y_predict_newdata=transformed_list1.copy()\n",
    "y_predict_newdata=pd.DataFrame(y_predict_newdata)\n",
    "\n",
    "y_predict_newdata.to_csv(\"y_predict.csv\",index=True)\n"
   ]
  },
  {
   "cell_type": "code",
   "execution_count": 6,
   "id": "76115077-b03d-4591-aa61-878bb02ac9be",
   "metadata": {},
   "outputs": [
    {
     "name": "stdout",
     "output_type": "stream",
     "text": [
      "AUC-ROC: 0.96027534194405\n",
      "Accuracy: 0.80375\n",
      "F1 Score: 0.8021659241767045\n",
      "Confusion Matrix : \n",
      " [[305  30   0   0   0]\n",
      " [ 18 446  30   0   1]\n",
      " [  0  59 216  42   2]\n",
      " [  0   1  48 166  43]\n",
      " [  0   0   4  36 153]]\n"
     ]
    }
   ],
   "source": [
    "from sklearn.metrics import roc_auc_score, accuracy_score ,f1_score,confusion_matrix\n",
    "\n",
    "def calculate_metrics(y_true, y_pred_proba, y_pred):\n",
    "    \"\"\"Calculate AUC-ROC, accuracy, and F1 score\"\"\"\n",
    "    auc_roc = roc_auc_score(y_true, y_pred_proba, multi_class='ovr')  # Assuming one-vs-rest strategy\n",
    "    accuracy = accuracy_score(y_true, y_pred)\n",
    "    f1 = f1_score(y_true, y_pred, average='weighted')  # weighted average for multiclass\n",
    "    return auc_roc, accuracy, f1\n",
    "\n",
    "\n",
    "auc_roc, accuracy, f1 = calculate_metrics(y_test, y_predict_pro, y_predict)\n",
    "print(\"AUC-ROC:\", auc_roc)\n",
    "print(\"Accuracy:\", accuracy)\n",
    "print(\"F1 Score:\", f1)\n",
    "print(\"Confusion Matrix : \\n\",confusion_matrix(y_test, model.predict(x_test)))"
   ]
  },
  {
   "cell_type": "code",
   "execution_count": null,
   "id": "cb06a38d-95e0-4c1a-aa25-0e8a61483572",
   "metadata": {},
   "outputs": [],
   "source": []
  },
  {
   "cell_type": "code",
   "execution_count": null,
   "id": "518c69d9-52e1-4814-9a62-d30fe96f70e5",
   "metadata": {},
   "outputs": [],
   "source": []
  }
 ],
 "metadata": {
  "kernelspec": {
   "display_name": "Python 3 (ipykernel)",
   "language": "python",
   "name": "python3"
  },
  "language_info": {
   "codemirror_mode": {
    "name": "ipython",
    "version": 3
   },
   "file_extension": ".py",
   "mimetype": "text/x-python",
   "name": "python",
   "nbconvert_exporter": "python",
   "pygments_lexer": "ipython3",
   "version": "3.11.6"
  }
 },
 "nbformat": 4,
 "nbformat_minor": 5
}
